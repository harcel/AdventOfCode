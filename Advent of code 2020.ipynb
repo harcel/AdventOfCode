{
 "cells": [
  {
   "cell_type": "markdown",
   "metadata": {},
   "source": [
    "# The advent of code 2020\n",
    "\n",
    "[Find it here](https://adventofcode.com/2020). I'm not repeatng the questions here. The code below is ugly and undocumented, unless it was a case where I feel it was interesting enough to document, or when I think I might get back to it at some later point. You should be able to run them per day.\n",
    "\n",
    "## Day 1"
   ]
  },
  {
   "cell_type": "code",
   "execution_count": 21,
   "metadata": {},
   "outputs": [],
   "source": [
    "with open('input_advent1.txt', 'r') as f:\n",
    "    data=f.readlines()"
   ]
  },
  {
   "cell_type": "code",
   "execution_count": 22,
   "metadata": {},
   "outputs": [
    {
     "name": "stdout",
     "output_type": "stream",
     "text": [
      "365619\n"
     ]
    }
   ],
   "source": [
    "d = [int(i) for i in data]\n",
    "\n",
    "for ii, i in enumerate(d):\n",
    "    if 2020-i in d[ii:]: print(i*(2020-i))"
   ]
  },
  {
   "cell_type": "code",
   "execution_count": 23,
   "metadata": {},
   "outputs": [
    {
     "name": "stdout",
     "output_type": "stream",
     "text": [
      "236873508\n"
     ]
    }
   ],
   "source": [
    "for ii, i in enumerate(d):\n",
    "    for jj, j in enumerate(d[ii:]):\n",
    "        if 2020-i-j in d[jj:]: print(i*j*(2020-i-j))"
   ]
  },
  {
   "cell_type": "markdown",
   "metadata": {},
   "source": [
    "In both, the last enumerate is not necessary, but it potentially spits out the answer more than once...."
   ]
  },
  {
   "cell_type": "markdown",
   "metadata": {},
   "source": [
    "## Day 2"
   ]
  },
  {
   "cell_type": "code",
   "execution_count": 15,
   "metadata": {},
   "outputs": [
    {
     "name": "stdout",
     "output_type": "stream",
     "text": [
      "There are 447 valid passwords.\n"
     ]
    }
   ],
   "source": [
    "with open('input_advent2.txt', 'r') as f:\n",
    "    lines = f.readlines()\n",
    "\n",
    "valid = 0\n",
    "for t in lines:\n",
    "    s = t.split()\n",
    "    minmax = s[0].split('-')\n",
    "    letter = s[1].replace(\":\", \"\")\n",
    "    \n",
    "    c = s[2].count(letter)\n",
    "    valid += ((c >= int(minmax[0])) & (c <= int(minmax[1])))\n",
    "\n",
    "print(f'There are {valid} valid passwords.')\n"
   ]
  },
  {
   "cell_type": "code",
   "execution_count": 19,
   "metadata": {},
   "outputs": [
    {
     "name": "stdout",
     "output_type": "stream",
     "text": [
      "There are 249 valid passwords.\n"
     ]
    }
   ],
   "source": [
    "#With different policy\n",
    "valid = 0\n",
    "for t in lines:\n",
    "    s = t.split()\n",
    "    minmax = s[0].split('-')\n",
    "    letter = s[1].replace(\":\", \"\")\n",
    "\n",
    "    try:\n",
    "        valid += ((s[2][int(minmax[0])-1] == letter) ^ (s[2][int(minmax[1])-1] == letter)) # ^ == XOR\n",
    "    except IndexError:  # In principle, who says the indices even exist?\n",
    "        pass\n",
    "            \n",
    "print(f'There are {valid} valid passwords.')\n"
   ]
  },
  {
   "cell_type": "markdown",
   "metadata": {},
   "source": [
    "## Day 3"
   ]
  },
  {
   "cell_type": "code",
   "execution_count": 7,
   "metadata": {},
   "outputs": [
    {
     "name": "stdout",
     "output_type": "stream",
     "text": [
      "I encountered 214 trees!\n"
     ]
    }
   ],
   "source": [
    "with open('input_advent3.txt', 'r') as f:\n",
    "    lines = f.readlines()\n",
    "\n",
    "nrows = len(lines)\n",
    "ntrees = 0\n",
    "move_down = 1\n",
    "move_right = 3\n",
    "\n",
    "width_grid = len(lines[0])\n",
    "\n",
    "for i, l in enumerate(lines[::move_down]):\n",
    "    pright = (i * move_right) % (width_grid-1) \n",
    "    if l[pright] == \"#\": ntrees += 1\n",
    "print(f\"I encountered {ntrees} trees!\")"
   ]
  },
  {
   "cell_type": "code",
   "execution_count": 10,
   "metadata": {},
   "outputs": [
    {
     "name": "stdout",
     "output_type": "stream",
     "text": [
      "I encountered 94 trees!\n",
      "I encountered 214 trees!\n",
      "I encountered 99 trees!\n",
      "I encountered 91 trees!\n",
      "I encountered 46 trees!\n",
      "8336352024\n"
     ]
    }
   ],
   "source": [
    "def ntrees(move_right, move_down):\n",
    "    ntrees =0\n",
    "    for i, l in enumerate(lines[::move_down]):\n",
    "        pright = (i * move_right) % (width_grid-1) \n",
    "        if l[pright] == \"#\": ntrees += 1\n",
    "    print(f\"I encountered {ntrees} trees!\")\n",
    "    return ntrees\n",
    "\n",
    "tot = 1\n",
    "for mr, md in [[1, 1], [3, 1], [5, 1], [7, 1], [1,2]]:\n",
    "    tot *= ntrees(mr, md)\n",
    "print(tot)"
   ]
  },
  {
   "cell_type": "markdown",
   "metadata": {},
   "source": [
    "## Day 4"
   ]
  },
  {
   "cell_type": "code",
   "execution_count": 15,
   "metadata": {},
   "outputs": [],
   "source": [
    "with open('input_advent4.txt', 'r') as f:\n",
    "    content = f.read()\n",
    "\n",
    "fields = ['byr', 'iyr', 'eyr', 'hgt', 'hcl', 'ecl', 'pid', 'cid']\n",
    "nfields = fields[:-1]"
   ]
  },
  {
   "cell_type": "code",
   "execution_count": 16,
   "metadata": {},
   "outputs": [],
   "source": [
    "passports = content.split('\\n\\n')\n",
    "passports = [p.replace('\\n', ' ') for p in passports]"
   ]
  },
  {
   "cell_type": "code",
   "execution_count": 20,
   "metadata": {},
   "outputs": [
    {
     "name": "stdout",
     "output_type": "stream",
     "text": [
      "Number of valid passports: 219\n"
     ]
    }
   ],
   "source": [
    "nvalid = 0\n",
    "for p in passports:\n",
    "    f = p.split(' ')\n",
    "    if len(f) < 6: continue\n",
    "    keys = []\n",
    "    for q in f: keys.append(q.split(':')[0])\n",
    "    add = 1\n",
    "    for necessary in nfields: \n",
    "        if necessary not in keys: add = 0\n",
    "    nvalid += add\n",
    "    \n",
    "print(f'Number of valid passports: {nvalid}')"
   ]
  },
  {
   "cell_type": "code",
   "execution_count": 33,
   "metadata": {},
   "outputs": [
    {
     "name": "stdout",
     "output_type": "stream",
     "text": [
      "Number of valid passports: 127\n"
     ]
    }
   ],
   "source": [
    "import regex as re\n",
    "nvalid = 0\n",
    "for p in passports:\n",
    "#     print(p)\n",
    "    f = p.split(' ')\n",
    "    if len(f) < 6: continue\n",
    "    keys = []\n",
    "    values = []\n",
    "    for q in f: \n",
    "        try:\n",
    "            spl = q.split(':')\n",
    "            keys.append(spl[0])\n",
    "            values.append(spl[1])\n",
    "        except:\n",
    "            continue\n",
    "            \n",
    "    # check for validity\n",
    "    add = 1\n",
    "    for necessary in nfields: \n",
    "        if necessary not in keys: add = 0\n",
    "    \n",
    "    if add == 1:\n",
    "        for k, v in zip(keys, values):\n",
    "            if k == 'byr': \n",
    "                if len(v) != 4: add = 0\n",
    "                elif not (1920 <= int(v) <= 2002): add = 0\n",
    "            if k == 'iyr':\n",
    "                if len(v) != 4: add = 0\n",
    "                elif not (2010 <= int(v) <= 2020): add = 0\n",
    "            if k == 'eyr':\n",
    "                if len(v) != 4: add = 0\n",
    "                elif not (2020 <= int(v) <= 2030): add = 0\n",
    "            if k == 'hgt':\n",
    "                unit = v[-2:]\n",
    "                if unit == 'cm': \n",
    "                    if not (150 <= int(v[:-2]) <= 193): add = 0\n",
    "                elif unit == 'in':\n",
    "                    if not (59 <= int(v[:-2]) <= 76): add = 0\n",
    "                else: add = 0\n",
    "            if k == 'hcl':\n",
    "                if len(v) != 7: add = 0\n",
    "                elif len(re.findall(r\"#[a-z0-9]{6}\", v)) != 1: add = 0 \n",
    "            if k == 'ecl':\n",
    "                if v not in ['amb', 'blu', 'brn', 'gry', 'grn', 'hzl', 'oth']:\n",
    "                    add = 0\n",
    "            if k == 'pid':\n",
    "                if ((len(re.findall(r\"[0-9]{9}\", v)) != 1) | (len(v) != 9)):\n",
    "                    add = 0\n",
    "#     print(add)\n",
    "    nvalid += add\n",
    "    \n",
    "print(f'Number of valid passports: {nvalid}')"
   ]
  },
  {
   "cell_type": "markdown",
   "metadata": {},
   "source": [
    "## Day 5"
   ]
  },
  {
   "cell_type": "code",
   "execution_count": 16,
   "metadata": {},
   "outputs": [
    {
     "name": "stdout",
     "output_type": "stream",
     "text": [
      "861\n"
     ]
    }
   ],
   "source": [
    "with open('input_advent5.txt', 'r') as f:\n",
    "    bp = f.readlines()\n",
    "\n",
    "rows = 127\n",
    "cols = 7\n",
    "\n",
    "IDs = []\n",
    "\n",
    "for p in bp:\n",
    "    minr = 0\n",
    "    maxr = rows\n",
    "    minc = 0\n",
    "    maxc = cols\n",
    "    for irow, l in enumerate(p[:7]):\n",
    "        # If B, change lower lim; if F, change upper lim\n",
    "        if l == \"B\": minr += 2**(6-irow)\n",
    "        if l == \"F\": maxr -= 2**(6-irow)\n",
    "        \n",
    "    for icol, l in enumerate(p[7:10]):\n",
    "        if l == \"R\": minc += 2**(2-icol)\n",
    "        if l == \"L\": maxc -= 2**(2-icol)\n",
    "    \n",
    "    IDs.append(minr*8+minc)\n",
    "print(max(IDs))"
   ]
  },
  {
   "cell_type": "code",
   "execution_count": 32,
   "metadata": {},
   "outputs": [
    {
     "name": "stdout",
     "output_type": "stream",
     "text": [
      "Your seat is at 633!\n"
     ]
    }
   ],
   "source": [
    "sortedIDs = sorted(IDs)\n",
    "\n",
    "import numpy as np\n",
    "print(f'Your seat is at {sortedIDs[np.where(sortedIDs - np.roll(sortedIDs, 1) == 2)[0][0]]-1}!')"
   ]
  },
  {
   "cell_type": "markdown",
   "metadata": {},
   "source": [
    "## Day 6 "
   ]
  },
  {
   "cell_type": "code",
   "execution_count": 2,
   "metadata": {},
   "outputs": [],
   "source": [
    "with open('input_advent6.txt', 'r') as f:\n",
    "    content = f.read()\n",
    "\n",
    "groups = content.split(\"\\n\\n\")"
   ]
  },
  {
   "cell_type": "code",
   "execution_count": 21,
   "metadata": {},
   "outputs": [
    {
     "name": "stdout",
     "output_type": "stream",
     "text": [
      "Total = 6735\n"
     ]
    }
   ],
   "source": [
    "tot = 0\n",
    "for g in groups:\n",
    "    s = ''\n",
    "    for l in g.split(\"\\n\"): s+=l\n",
    "    tot += len(set(s))\n",
    "print(f\"Total = {tot}\") "
   ]
  },
  {
   "cell_type": "code",
   "execution_count": 24,
   "metadata": {},
   "outputs": [
    {
     "name": "stdout",
     "output_type": "stream",
     "text": [
      "Total = 3221\n"
     ]
    }
   ],
   "source": [
    "tot = 0\n",
    "for g in groups:\n",
    "    people = g.split(\"\\n\")\n",
    "    intersect = set(people[0])\n",
    "    if len(people) > 1:\n",
    "        for p in people[1:]:\n",
    "            if len(p) > 0:\n",
    "                intersect = intersect.intersection(set(p))\n",
    "    tot += len(intersect)\n",
    "print(f\"Total = {tot}\")"
   ]
  },
  {
   "cell_type": "markdown",
   "metadata": {},
   "source": [
    "## Day 7"
   ]
  },
  {
   "cell_type": "code",
   "execution_count": null,
   "metadata": {},
   "outputs": [],
   "source": []
  },
  {
   "cell_type": "markdown",
   "metadata": {},
   "source": [
    "## Day 8"
   ]
  },
  {
   "cell_type": "code",
   "execution_count": 41,
   "metadata": {},
   "outputs": [
    {
     "name": "stdout",
     "output_type": "stream",
     "text": [
      "Final value of accumulator: 2058\n"
     ]
    }
   ],
   "source": [
    "with open('input_advent8.txt', 'r') as f:\n",
    "    act = f.readlines()\n",
    "\n",
    "actions = [[a.split()[0], int(a.split()[1])] for a in act]\n",
    "\n",
    "line=0  # line tracker\n",
    "acc = 0 # accimulator\n",
    "done = []\n",
    "while line not in done:\n",
    "#     print(line, actions[line])\n",
    "    done.append(line)\n",
    "    action, value = actions[line]\n",
    "    if action == \"nop\":\n",
    "        line += 1\n",
    "    elif action == 'acc':\n",
    "        acc += value\n",
    "        line +=1\n",
    "    elif action == 'jmp':\n",
    "        line += value\n",
    "    \n",
    "print(f\"Final value of accumulator: {acc}\")"
   ]
  },
  {
   "cell_type": "code",
   "execution_count": 42,
   "metadata": {},
   "outputs": [],
   "source": [
    "# Try changing one of the jmp or nop considered"
   ]
  },
  {
   "cell_type": "code",
   "execution_count": 43,
   "metadata": {},
   "outputs": [
    {
     "name": "stdout",
     "output_type": "stream",
     "text": [
      "Done! 1000\n"
     ]
    }
   ],
   "source": [
    "def tryme(actions):\n",
    "    line=0  # line tracker\n",
    "    acc = 0 # accimulator\n",
    "    tdone = []\n",
    "    lenact = len(actions)\n",
    "    while line not in tdone:\n",
    "    #     print(line, actions[line])\n",
    "        tdone.append(line)\n",
    "        action, value = actions[line]\n",
    "        if action == \"nop\":\n",
    "            line += 1\n",
    "        elif action == 'acc':\n",
    "            acc += value\n",
    "            line +=1\n",
    "        elif action == 'jmp':\n",
    "            line += value\n",
    "        \n",
    "        if line == lenact:\n",
    "            return acc\n",
    "        \n",
    "    return False\n",
    "    \n",
    "switch = {'jmp':'nop', 'nop':'jmp'}\n",
    "for aa in done:\n",
    "    act = actions[aa]\n",
    "    if act[0] in switch:\n",
    "        actions[aa] = [switch[act[0]], act[1]]\n",
    "        if tryme(actions): \n",
    "            print(f'Done! {tryme(actions)}')\n",
    "            break\n",
    "        actions[aa] = [switch[actions[aa][0]], act[1]] # switch this one back\n",
    "         "
   ]
  },
  {
   "cell_type": "markdown",
   "metadata": {},
   "source": [
    "## Day 9"
   ]
  },
  {
   "cell_type": "code",
   "execution_count": null,
   "metadata": {},
   "outputs": [],
   "source": []
  }
 ],
 "metadata": {
  "kernelspec": {
   "display_name": "Python 3",
   "language": "python",
   "name": "python3"
  },
  "language_info": {
   "codemirror_mode": {
    "name": "ipython",
    "version": 3
   },
   "file_extension": ".py",
   "mimetype": "text/x-python",
   "name": "python",
   "nbconvert_exporter": "python",
   "pygments_lexer": "ipython3",
   "version": "3.8.5"
  }
 },
 "nbformat": 4,
 "nbformat_minor": 4
}
