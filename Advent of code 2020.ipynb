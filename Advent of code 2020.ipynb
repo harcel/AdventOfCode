{
 "cells": [
  {
   "cell_type": "markdown",
   "metadata": {},
   "source": [
    "# The advent of code 2020\n",
    "\n",
    "[Find it here](https://adventofcode.com/2020). I'm not repeatng the questions here. The code below is ugly and undocumented, unless it was a case where I feel it was interesting enough to document, or when I think I might get back to it at some later point. You should be able to run them per day.\n",
    "\n",
    "## Day 1"
   ]
  },
  {
   "cell_type": "code",
   "execution_count": 21,
   "metadata": {},
   "outputs": [],
   "source": [
    "with open('input_advent1.txt', 'r') as f:\n",
    "    data=f.readlines()"
   ]
  },
  {
   "cell_type": "code",
   "execution_count": 22,
   "metadata": {},
   "outputs": [
    {
     "name": "stdout",
     "output_type": "stream",
     "text": [
      "365619\n"
     ]
    }
   ],
   "source": [
    "d = [int(i) for i in data]\n",
    "\n",
    "for ii, i in enumerate(d):\n",
    "    if 2020-i in d[ii:]: print(i*(2020-i))"
   ]
  },
  {
   "cell_type": "code",
   "execution_count": 23,
   "metadata": {},
   "outputs": [
    {
     "name": "stdout",
     "output_type": "stream",
     "text": [
      "236873508\n"
     ]
    }
   ],
   "source": [
    "for ii, i in enumerate(d):\n",
    "    for jj, j in enumerate(d[ii:]):\n",
    "        if 2020-i-j in d[jj:]: print(i*j*(2020-i-j))"
   ]
  },
  {
   "cell_type": "markdown",
   "metadata": {},
   "source": [
    "In both, the last enumerate is not necessary, but it potentially spits out the answer more than once...."
   ]
  },
  {
   "cell_type": "markdown",
   "metadata": {},
   "source": [
    "## Day 2"
   ]
  },
  {
   "cell_type": "code",
   "execution_count": 15,
   "metadata": {},
   "outputs": [
    {
     "name": "stdout",
     "output_type": "stream",
     "text": [
      "There are 447 valid passwords.\n"
     ]
    }
   ],
   "source": [
    "with open('input_advent2.txt', 'r') as f:\n",
    "    lines = f.readlines()\n",
    "\n",
    "valid = 0\n",
    "for t in lines:\n",
    "    s = t.split()\n",
    "    minmax = s[0].split('-')\n",
    "    letter = s[1].replace(\":\", \"\")\n",
    "    \n",
    "    c = s[2].count(letter)\n",
    "    valid += ((c >= int(minmax[0])) & (c <= int(minmax[1])))\n",
    "\n",
    "print(f'There are {valid} valid passwords.')\n"
   ]
  },
  {
   "cell_type": "code",
   "execution_count": 19,
   "metadata": {},
   "outputs": [
    {
     "name": "stdout",
     "output_type": "stream",
     "text": [
      "There are 249 valid passwords.\n"
     ]
    }
   ],
   "source": [
    "#With different policy\n",
    "valid = 0\n",
    "for t in lines:\n",
    "    s = t.split()\n",
    "    minmax = s[0].split('-')\n",
    "    letter = s[1].replace(\":\", \"\")\n",
    "\n",
    "    try:\n",
    "        valid += ((s[2][int(minmax[0])-1] == letter) ^ (s[2][int(minmax[1])-1] == letter)) # ^ == XOR\n",
    "    except IndexError:  # In principle, who says the indices even exist?\n",
    "        pass\n",
    "            \n",
    "print(f'There are {valid} valid passwords.')\n"
   ]
  },
  {
   "cell_type": "markdown",
   "metadata": {},
   "source": [
    "## Day 3"
   ]
  },
  {
   "cell_type": "code",
   "execution_count": 7,
   "metadata": {},
   "outputs": [
    {
     "name": "stdout",
     "output_type": "stream",
     "text": [
      "I encountered 214 trees!\n"
     ]
    }
   ],
   "source": [
    "with open('input_advent3.txt', 'r') as f:\n",
    "    lines = f.readlines()\n",
    "\n",
    "nrows = len(lines)\n",
    "ntrees = 0\n",
    "move_down = 1\n",
    "move_right = 3\n",
    "\n",
    "width_grid = len(lines[0])\n",
    "\n",
    "for i, l in enumerate(lines[::move_down]):\n",
    "    pright = (i * move_right) % (width_grid-1) \n",
    "    if l[pright] == \"#\": ntrees += 1\n",
    "print(f\"I encountered {ntrees} trees!\")"
   ]
  },
  {
   "cell_type": "code",
   "execution_count": 10,
   "metadata": {},
   "outputs": [
    {
     "name": "stdout",
     "output_type": "stream",
     "text": [
      "I encountered 94 trees!\n",
      "I encountered 214 trees!\n",
      "I encountered 99 trees!\n",
      "I encountered 91 trees!\n",
      "I encountered 46 trees!\n",
      "8336352024\n"
     ]
    }
   ],
   "source": [
    "def ntrees(move_right, move_down):\n",
    "    ntrees =0\n",
    "    for i, l in enumerate(lines[::move_down]):\n",
    "        pright = (i * move_right) % (width_grid-1) \n",
    "        if l[pright] == \"#\": ntrees += 1\n",
    "    print(f\"I encountered {ntrees} trees!\")\n",
    "    return ntrees\n",
    "\n",
    "tot = 1\n",
    "for mr, md in [[1, 1], [3, 1], [5, 1], [7, 1], [1,2]]:\n",
    "    tot *= ntrees(mr, md)\n",
    "print(tot)"
   ]
  },
  {
   "cell_type": "markdown",
   "metadata": {},
   "source": [
    "## Day 4"
   ]
  },
  {
   "cell_type": "code",
   "execution_count": null,
   "metadata": {},
   "outputs": [],
   "source": []
  }
 ],
 "metadata": {
  "kernelspec": {
   "display_name": "Python 3",
   "language": "python",
   "name": "python3"
  },
  "language_info": {
   "codemirror_mode": {
    "name": "ipython",
    "version": 3
   },
   "file_extension": ".py",
   "mimetype": "text/x-python",
   "name": "python",
   "nbconvert_exporter": "python",
   "pygments_lexer": "ipython3",
   "version": "3.8.5"
  }
 },
 "nbformat": 4,
 "nbformat_minor": 4
}
